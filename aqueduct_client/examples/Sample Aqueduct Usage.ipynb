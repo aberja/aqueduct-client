{
 "cells": [
  {
   "cell_type": "markdown",
   "metadata": {},
   "source": [
    "# Quantopian Enterprise - Sample Aqueduct Usage\n",
    "***\n",
    "Aqueduct is an HTTP API that allows you to run and retrieve pipelines outside of the Quantopian platform.\n",
    "\n",
    "Models developed in Quantopian Enterprise can be run via HTTP requests to the Aqueduct server without any modification, streamlining the path from research to production.\n",
    "\n",
    "For more information on Aqueduct, including installation, please visit the [Setup](https://factset.quantopian.com/docs/user-guide/tools/aqueduct#setup) in Quantopian Enterprise."
   ]
  },
  {
   "cell_type": "code",
   "execution_count": 1,
   "metadata": {},
   "outputs": [],
   "source": [
    "import time\n",
    "import pandas as pd\n",
    "\n",
    "import aqueduct_client\n",
    "from aqueduct_client import create_client\n",
    "from aqueduct_client.utils import load_api_key"
   ]
  },
  {
   "cell_type": "markdown",
   "metadata": {},
   "source": [
    "## Running the AqueductClient\n",
    "\n",
    "Once the `aqueduct_client` and api key have been loaded, we can create an instance of the client."
   ]
  },
  {
   "cell_type": "code",
   "execution_count": 2,
   "metadata": {},
   "outputs": [
    {
     "name": "stdout",
     "output_type": "stream",
     "text": [
      "Aqueduct client version: 0.3\n"
     ]
    }
   ],
   "source": [
    "API_KEY = load_api_key()\n",
    "client = create_client(API_KEY)\n",
    "print(\"Aqueduct client version: {}\".format(aqueduct_client.__version__))"
   ]
  },
  {
   "cell_type": "markdown",
   "metadata": {},
   "source": [
    "Import a Pipeline query and invoke the `submit_pipeline_execution` method"
   ]
  },
  {
   "cell_type": "code",
   "execution_count": 3,
   "metadata": {},
   "outputs": [
    {
     "data": {
      "text/plain": [
       "'5e165d2ca809d1660ad1910e'"
      ]
     },
     "execution_count": 3,
     "metadata": {},
     "output_type": "execute_result"
    }
   ],
   "source": [
    "# Open pipeline_query.py, a Python file \n",
    "# in the same directory as this notebook \n",
    "# that contains our pipeline definition.\n",
    "file = open(\"pipeline_query.py\", \"r\")\n",
    "code = file.read()\n",
    "\n",
    "pipeline_id = client.submit_pipeline_execution(\n",
    "    code, \n",
    "    start_date=\"2015-12-31\", \n",
    "    end_date=\"2017-12-31\", \n",
    "    name=\"MyPipeline\"\n",
    ")\n",
    "\n",
    "pipeline_id"
   ]
  },
  {
   "cell_type": "markdown",
   "metadata": {},
   "source": [
    "Run Pipeline Query"
   ]
  },
  {
   "cell_type": "code",
   "execution_count": 4,
   "metadata": {
    "scrolled": true
   },
   "outputs": [
    {
     "name": "stdout",
     "output_type": "stream",
     "text": [
      "SUCCESS\n"
     ]
    }
   ],
   "source": [
    "while True:\n",
    "    status = client.get_pipeline_execution(pipeline_id)[\"status\"]\n",
    "    print(status)\n",
    "    if status == \"SUCCESS\":\n",
    "        break\n",
    "    if status == \"FAILED\":\n",
    "        print(client.get_pipeline_execution_error(pipeline_id))\n",
    "        break\n",
    "    time.sleep(10)"
   ]
  },
  {
   "cell_type": "markdown",
   "metadata": {},
   "source": [
    "Use the `get_pipeline_results_dataframe` method to pull the results."
   ]
  },
  {
   "cell_type": "code",
   "execution_count": 5,
   "metadata": {},
   "outputs": [],
   "source": [
    "result = client.get_pipeline_results_dataframe(pipeline_id)"
   ]
  },
  {
   "cell_type": "markdown",
   "metadata": {},
   "source": [
    "Preview the results"
   ]
  },
  {
   "cell_type": "code",
   "execution_count": 6,
   "metadata": {},
   "outputs": [
    {
     "data": {
      "text/html": [
       "<div>\n",
       "<style>\n",
       "    .dataframe thead tr:only-child th {\n",
       "        text-align: right;\n",
       "    }\n",
       "\n",
       "    .dataframe thead th {\n",
       "        text-align: left;\n",
       "    }\n",
       "\n",
       "    .dataframe tbody tr th {\n",
       "        vertical-align: top;\n",
       "    }\n",
       "</style>\n",
       "<table border=\"1\" class=\"dataframe\">\n",
       "  <thead>\n",
       "    <tr style=\"text-align: right;\">\n",
       "      <th></th>\n",
       "      <th></th>\n",
       "      <th>ann_vol</th>\n",
       "      <th>ey</th>\n",
       "      <th>fcfy</th>\n",
       "      <th>gpa</th>\n",
       "      <th>log_mcap</th>\n",
       "      <th>lt_mom</th>\n",
       "    </tr>\n",
       "    <tr>\n",
       "      <th>date</th>\n",
       "      <th>sid</th>\n",
       "      <th></th>\n",
       "      <th></th>\n",
       "      <th></th>\n",
       "      <th></th>\n",
       "      <th></th>\n",
       "      <th></th>\n",
       "    </tr>\n",
       "  </thead>\n",
       "  <tbody>\n",
       "    <tr>\n",
       "      <th rowspan=\"5\" valign=\"top\">2015-12-31</th>\n",
       "      <th>2</th>\n",
       "      <td>1.401180</td>\n",
       "      <td>2.237009</td>\n",
       "      <td>0.578636</td>\n",
       "      <td>-0.826188</td>\n",
       "      <td>-0.685427</td>\n",
       "      <td>-1.867208</td>\n",
       "    </tr>\n",
       "    <tr>\n",
       "      <th>24</th>\n",
       "      <td>-0.303392</td>\n",
       "      <td>0.143422</td>\n",
       "      <td>1.312154</td>\n",
       "      <td>0.256917</td>\n",
       "      <td>2.293536</td>\n",
       "      <td>0.158758</td>\n",
       "    </tr>\n",
       "    <tr>\n",
       "      <th>62</th>\n",
       "      <td>-0.391409</td>\n",
       "      <td>-0.700045</td>\n",
       "      <td>-0.144533</td>\n",
       "      <td>0.035006</td>\n",
       "      <td>1.230461</td>\n",
       "      <td>-0.050641</td>\n",
       "    </tr>\n",
       "    <tr>\n",
       "      <th>67</th>\n",
       "      <td>0.447439</td>\n",
       "      <td>-1.580643</td>\n",
       "      <td>-0.173034</td>\n",
       "      <td>0.743537</td>\n",
       "      <td>-0.707037</td>\n",
       "      <td>0.145239</td>\n",
       "    </tr>\n",
       "    <tr>\n",
       "      <th>76</th>\n",
       "      <td>-0.130972</td>\n",
       "      <td>-1.241548</td>\n",
       "      <td>-0.363105</td>\n",
       "      <td>-0.762339</td>\n",
       "      <td>-0.446453</td>\n",
       "      <td>0.997855</td>\n",
       "    </tr>\n",
       "  </tbody>\n",
       "</table>\n",
       "</div>"
      ],
      "text/plain": [
       "                 ann_vol        ey      fcfy       gpa  log_mcap    lt_mom\n",
       "date       sid                                                            \n",
       "2015-12-31 2    1.401180  2.237009  0.578636 -0.826188 -0.685427 -1.867208\n",
       "           24  -0.303392  0.143422  1.312154  0.256917  2.293536  0.158758\n",
       "           62  -0.391409 -0.700045 -0.144533  0.035006  1.230461 -0.050641\n",
       "           67   0.447439 -1.580643 -0.173034  0.743537 -0.707037  0.145239\n",
       "           76  -0.130972 -1.241548 -0.363105 -0.762339 -0.446453  0.997855"
      ]
     },
     "execution_count": 6,
     "metadata": {},
     "output_type": "execute_result"
    }
   ],
   "source": [
    "result.head()"
   ]
  },
  {
   "cell_type": "markdown",
   "metadata": {},
   "source": [
    "In addition to submitting new pipeline runs to Aqueduct, the client also gives you access to the results of all Aqueduct runs you have submitted in the past. To get a list of all past results, use the `get_all_pipeline_executions` method."
   ]
  },
  {
   "cell_type": "code",
   "execution_count": 7,
   "metadata": {},
   "outputs": [
    {
     "data": {
      "text/html": [
       "<div>\n",
       "<style>\n",
       "    .dataframe thead tr:only-child th {\n",
       "        text-align: right;\n",
       "    }\n",
       "\n",
       "    .dataframe thead th {\n",
       "        text-align: left;\n",
       "    }\n",
       "\n",
       "    .dataframe tbody tr th {\n",
       "        vertical-align: top;\n",
       "    }\n",
       "</style>\n",
       "<table border=\"1\" class=\"dataframe\">\n",
       "  <thead>\n",
       "    <tr style=\"text-align: right;\">\n",
       "      <th></th>\n",
       "      <th>created_at</th>\n",
       "      <th>id</th>\n",
       "      <th>name</th>\n",
       "      <th>asset_identifier_format</th>\n",
       "      <th>start_date</th>\n",
       "      <th>end_date</th>\n",
       "      <th>status</th>\n",
       "      <th>output_format</th>\n",
       "    </tr>\n",
       "  </thead>\n",
       "  <tbody>\n",
       "    <tr>\n",
       "      <th>761</th>\n",
       "      <td>2020-01-08T22:52:28.675448</td>\n",
       "      <td>5e165d2ca809d1660ad1910e</td>\n",
       "      <td>MyPipeline</td>\n",
       "      <td>sid</td>\n",
       "      <td>2015-12-31</td>\n",
       "      <td>2017-12-31</td>\n",
       "      <td>SUCCESS</td>\n",
       "      <td>csv</td>\n",
       "    </tr>\n",
       "  </tbody>\n",
       "</table>\n",
       "</div>"
      ],
      "text/plain": [
       "                     created_at                        id        name  \\\n",
       "761  2020-01-08T22:52:28.675448  5e165d2ca809d1660ad1910e  MyPipeline   \n",
       "\n",
       "    asset_identifier_format  start_date    end_date   status output_format  \n",
       "761                     sid  2015-12-31  2017-12-31  SUCCESS           csv  "
      ]
     },
     "execution_count": 7,
     "metadata": {},
     "output_type": "execute_result"
    }
   ],
   "source": [
    "all_pipelines = client.get_all_pipeline_executions()\n",
    "\n",
    "historical_pipelines = pd.DataFrame(all_pipelines).sort_values(\n",
    "    \"created_at\", ascending=False\n",
    ")\n",
    "historical_pipelines = historical_pipelines[\n",
    "    [\n",
    "        \"created_at\",\n",
    "        \"id\",\n",
    "        \"name\",\n",
    "        \"asset_identifier_format\",\n",
    "        \"start_date\",\n",
    "        \"end_date\",\n",
    "        \"status\",\n",
    "        \"output_format\",\n",
    "    ]\n",
    "]\n",
    "\n",
    "historical_pipelines.head(1)"
   ]
  },
  {
   "cell_type": "markdown",
   "metadata": {},
   "source": [
    "Historical, point-in-time Aqueduct results can be retrieved by selecting the **IDs** shown above. Below is an example:"
   ]
  },
  {
   "cell_type": "code",
   "execution_count": 8,
   "metadata": {},
   "outputs": [
    {
     "name": "stdout",
     "output_type": "stream",
     "text": [
      "SUCCESS\n"
     ]
    }
   ],
   "source": [
    "historical_pipeline_id = \"5e165d2ca809d1660ad1910e\"\n",
    "\n",
    "while True:\n",
    "    status = client.get_pipeline_execution(historical_pipeline_id)[\"status\"]\n",
    "    print(status)\n",
    "    if status == \"SUCCESS\":\n",
    "        historical_result = client.get_pipeline_results_dataframe(\n",
    "            historical_pipeline_id\n",
    "        )\n",
    "        break\n",
    "    if status == \"FAILED\":\n",
    "        print(client.get_pipeline_execution_error(historical_pipeline_id))\n",
    "        break\n",
    "    time.sleep(10)"
   ]
  },
  {
   "cell_type": "markdown",
   "metadata": {},
   "source": [
    "Preivew the results"
   ]
  },
  {
   "cell_type": "code",
   "execution_count": 9,
   "metadata": {},
   "outputs": [
    {
     "data": {
      "text/html": [
       "<div>\n",
       "<style>\n",
       "    .dataframe thead tr:only-child th {\n",
       "        text-align: right;\n",
       "    }\n",
       "\n",
       "    .dataframe thead th {\n",
       "        text-align: left;\n",
       "    }\n",
       "\n",
       "    .dataframe tbody tr th {\n",
       "        vertical-align: top;\n",
       "    }\n",
       "</style>\n",
       "<table border=\"1\" class=\"dataframe\">\n",
       "  <thead>\n",
       "    <tr style=\"text-align: right;\">\n",
       "      <th></th>\n",
       "      <th></th>\n",
       "      <th>ann_vol</th>\n",
       "      <th>ey</th>\n",
       "      <th>fcfy</th>\n",
       "      <th>gpa</th>\n",
       "      <th>log_mcap</th>\n",
       "      <th>lt_mom</th>\n",
       "    </tr>\n",
       "    <tr>\n",
       "      <th>date</th>\n",
       "      <th>sid</th>\n",
       "      <th></th>\n",
       "      <th></th>\n",
       "      <th></th>\n",
       "      <th></th>\n",
       "      <th></th>\n",
       "      <th></th>\n",
       "    </tr>\n",
       "  </thead>\n",
       "  <tbody>\n",
       "    <tr>\n",
       "      <th rowspan=\"5\" valign=\"top\">2015-12-31</th>\n",
       "      <th>2</th>\n",
       "      <td>1.401180</td>\n",
       "      <td>2.237009</td>\n",
       "      <td>0.578636</td>\n",
       "      <td>-0.826188</td>\n",
       "      <td>-0.685427</td>\n",
       "      <td>-1.867208</td>\n",
       "    </tr>\n",
       "    <tr>\n",
       "      <th>24</th>\n",
       "      <td>-0.303392</td>\n",
       "      <td>0.143422</td>\n",
       "      <td>1.312154</td>\n",
       "      <td>0.256917</td>\n",
       "      <td>2.293536</td>\n",
       "      <td>0.158758</td>\n",
       "    </tr>\n",
       "    <tr>\n",
       "      <th>62</th>\n",
       "      <td>-0.391409</td>\n",
       "      <td>-0.700045</td>\n",
       "      <td>-0.144533</td>\n",
       "      <td>0.035006</td>\n",
       "      <td>1.230461</td>\n",
       "      <td>-0.050641</td>\n",
       "    </tr>\n",
       "    <tr>\n",
       "      <th>67</th>\n",
       "      <td>0.447439</td>\n",
       "      <td>-1.580643</td>\n",
       "      <td>-0.173034</td>\n",
       "      <td>0.743537</td>\n",
       "      <td>-0.707037</td>\n",
       "      <td>0.145239</td>\n",
       "    </tr>\n",
       "    <tr>\n",
       "      <th>76</th>\n",
       "      <td>-0.130972</td>\n",
       "      <td>-1.241548</td>\n",
       "      <td>-0.363105</td>\n",
       "      <td>-0.762339</td>\n",
       "      <td>-0.446453</td>\n",
       "      <td>0.997855</td>\n",
       "    </tr>\n",
       "  </tbody>\n",
       "</table>\n",
       "</div>"
      ],
      "text/plain": [
       "                 ann_vol        ey      fcfy       gpa  log_mcap    lt_mom\n",
       "date       sid                                                            \n",
       "2015-12-31 2    1.401180  2.237009  0.578636 -0.826188 -0.685427 -1.867208\n",
       "           24  -0.303392  0.143422  1.312154  0.256917  2.293536  0.158758\n",
       "           62  -0.391409 -0.700045 -0.144533  0.035006  1.230461 -0.050641\n",
       "           67   0.447439 -1.580643 -0.173034  0.743537 -0.707037  0.145239\n",
       "           76  -0.130972 -1.241548 -0.363105 -0.762339 -0.446453  0.997855"
      ]
     },
     "execution_count": 9,
     "metadata": {},
     "output_type": "execute_result"
    }
   ],
   "source": [
    "historical_result.head()"
   ]
  },
  {
   "cell_type": "code",
   "execution_count": null,
   "metadata": {},
   "outputs": [],
   "source": []
  },
  {
   "cell_type": "code",
   "execution_count": null,
   "metadata": {},
   "outputs": [],
   "source": []
  }
 ],
 "metadata": {
  "kernelspec": {
   "display_name": "Python 3",
   "language": "python",
   "name": "python3"
  },
  "language_info": {
   "codemirror_mode": {
    "name": "ipython",
    "version": 3
   },
   "file_extension": ".py",
   "mimetype": "text/x-python",
   "name": "python",
   "nbconvert_exporter": "python",
   "pygments_lexer": "ipython3",
   "version": "3.6.6"
  }
 },
 "nbformat": 4,
 "nbformat_minor": 2
}
